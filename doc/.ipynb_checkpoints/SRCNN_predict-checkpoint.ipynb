{
 "cells": [
  {
   "cell_type": "code",
   "execution_count": 1,
   "metadata": {},
   "outputs": [
    {
     "name": "stderr",
     "output_type": "stream",
     "text": [
      "/Library/Frameworks/Python.framework/Versions/3.5/lib/python3.5/importlib/_bootstrap.py:222: RuntimeWarning: compiletime version 3.6 of module 'tensorflow.python.framework.fast_tensor_util' does not match runtime version 3.5\n",
      "  return f(*args, **kwds)\n",
      "/Library/Frameworks/Python.framework/Versions/3.5/lib/python3.5/site-packages/h5py/__init__.py:36: FutureWarning: Conversion of the second argument of issubdtype from `float` to `np.floating` is deprecated. In future, it will be treated as `np.float64 == np.dtype(float).type`.\n",
      "  from ._conv import register_converters as _register_converters\n",
      "Using TensorFlow backend.\n"
     ]
    }
   ],
   "source": [
    "# pip3 install opencv-python\n",
    "# pip3 install pillow\n",
    "import matplotlib.image as mpimg \n",
    "import matplotlib.pyplot as plt \n",
    "import os\n",
    "import cv2\n",
    "from scipy import misc\n",
    "from scipy import ndimage\n",
    "import numpy as np\n",
    "import tensorflow as tf\n",
    "from keras.utils.np_utils import to_categorical\n",
    "from keras.models import Sequential\n",
    "from keras.layers import Dense, Dropout, Flatten, Conv2D, MaxPool2D\n",
    "from keras.optimizers import RMSprop\n",
    "from keras.preprocessing.image import ImageDataGenerator\n",
    "from keras.callbacks import ReduceLROnPlateau\n",
    "from keras.optimizers import Adam\n",
    "from sklearn.model_selection import ShuffleSplit\n",
    "from keras.models import load_model\n",
    "from sklearn.metrics import accuracy_score\n",
    "from keras.models import load_model\n",
    "import math\n",
    "%matplotlib inline"
   ]
  },
  {
   "cell_type": "code",
   "execution_count": 1,
   "metadata": {},
   "outputs": [
    {
     "name": "stderr",
     "output_type": "stream",
     "text": [
      "/Library/Frameworks/Python.framework/Versions/3.5/lib/python3.5/site-packages/h5py/__init__.py:36: FutureWarning: Conversion of the second argument of issubdtype from `float` to `np.floating` is deprecated. In future, it will be treated as `np.float64 == np.dtype(float).type`.\n",
      "  from ._conv import register_converters as _register_converters\n",
      "Using TensorFlow backend.\n",
      "/Library/Frameworks/Python.framework/Versions/3.5/lib/python3.5/importlib/_bootstrap.py:222: RuntimeWarning: compiletime version 3.6 of module 'tensorflow.python.framework.fast_tensor_util' does not match runtime version 3.5\n",
      "  return f(*args, **kwds)\n"
     ]
    }
   ],
   "source": [
    "import sys \n",
    "sys.path.append('../lib/SRCNN/') \n",
    "from files import files\n",
    "from rgb2ycbcr import rgb2ycbcr\n",
    "from resize import resize\n",
    "# from rgb2gray import rgb2gray\n",
    "from normalize import normalize\n",
    "from accuracy import accuracy\n",
    "from srcnn import srcnn\n",
    "from segment import segment"
   ]
  },
  {
   "cell_type": "code",
   "execution_count": 3,
   "metadata": {
    "collapsed": true
   },
   "outputs": [],
   "source": [
    "train_dir = \"../data/train_set/\"\n",
    "train_LR_dir = train_dir + 'LR/'\n",
    "train_HR_dir = train_dir + 'HR/'\n",
    "train_label_path = train_dir + 'label.csv'"
   ]
  },
  {
   "cell_type": "code",
   "execution_count": 4,
   "metadata": {},
   "outputs": [
    {
     "data": {
      "text/plain": [
       "'../data/train_set/HR/.DS_Store'"
      ]
     },
     "execution_count": 4,
     "metadata": {},
     "output_type": "execute_result"
    }
   ],
   "source": [
    "train_LR = []\n",
    "train_HR = []\n",
    "for file in files(train_LR_dir):  \n",
    "    train_LR.append(train_LR_dir + file)\n",
    "train_LR.pop(0)\n",
    "for file in files(train_HR_dir):  \n",
    "    train_HR.append(train_HR_dir + file)\n",
    "train_HR.pop(0)"
   ]
  },
  {
   "cell_type": "code",
   "execution_count": 5,
   "metadata": {
    "collapsed": true
   },
   "outputs": [],
   "source": [
    "m = np.array([[ 65.481, 128.553, 24.966],\n",
    "              [-37.797, -74.203, 112],\n",
    "              [ 112, -93.786, -18.214]])\n",
    "mat = m.transpose() / 255."
   ]
  },
  {
   "cell_type": "code",
   "execution_count": 7,
   "metadata": {
    "collapsed": true
   },
   "outputs": [],
   "source": [
    "test_LR, test_HR = [], []\n",
    "for i in  range(200,700):\n",
    "    lr, hr = resize(train_LR[i], train_HR[i])\n",
    "    test_LR.append(lr), test_HR.append(hr)"
   ]
  },
  {
   "cell_type": "code",
   "execution_count": 8,
   "metadata": {
    "collapsed": true
   },
   "outputs": [],
   "source": [
    "red_LR = [normalize(e[:,:,0]) for e in test_LR]\n",
    "green_LR = [normalize(e[:,:,1]) for e in test_LR]\n",
    "blue_LR = [normalize(e[:,:,2]) for e in test_LR]\n",
    "red_HR = [normalize(e[:,:,0]) for e in test_HR]\n",
    "green_HR = [normalize(e[:,:,1]) for e in test_HR]\n",
    "blue_HR = [normalize(e[:,:,2]) for e in test_HR]"
   ]
  },
  {
   "cell_type": "code",
   "execution_count": 9,
   "metadata": {
    "collapsed": true
   },
   "outputs": [],
   "source": [
    "red_X = [segment(e)[0] for e in red_LR]\n",
    "green_X = [segment(e)[0] for e in green_LR]\n",
    "blue_X = [segment(e)[0] for e in blue_LR]\n",
    "red_y = [segment(e)[1] for e in red_HR]\n",
    "green_y = [segment(e)[1] for e in green_HR]\n",
    "blue_y = [segment(e)[1] for e in blue_HR]"
   ]
  },
  {
   "cell_type": "code",
   "execution_count": 10,
   "metadata": {
    "collapsed": true
   },
   "outputs": [],
   "source": [
    "Xred = []\n",
    "Xgreen = []\n",
    "Xblue = []\n",
    "yred = []\n",
    "ygreen = []\n",
    "yblue = []\n",
    "for i in range(len(red_X)):\n",
    "    lr_red = np.reshape(red_X[i], (np.shape(red_X[i])[0], 33, 33, 1))\n",
    "    hr_red = np.reshape(red_y[i], (np.shape(red_y[i])[0], 21, 21, 1))\n",
    "    Xred = Xred + [lr_red[j,:,:,:] for j in range(np.shape(lr_red)[0])]\n",
    "    yred = yred + [hr_red[j,:,:,:] for j in range(np.shape(hr_red)[0])]\n",
    "    lr_green = np.reshape(green_X[i], (np.shape(green_X[i])[0], 33, 33, 1))\n",
    "    hr_green = np.reshape(green_y[i], (np.shape(green_y[i])[0], 21, 21, 1))\n",
    "    Xgreen = Xgreen + [lr_green[j,:,:,:] for j in range(np.shape(lr_green)[0])]\n",
    "    ygreen = ygreen + [hr_green[j,:,:,:] for j in range(np.shape(hr_green)[0])]\n",
    "    lr_blue = np.reshape(blue_X[i], (np.shape(blue_X[i])[0], 33, 33, 1))\n",
    "    hr_blue = np.reshape(blue_y[i], (np.shape(blue_y[i])[0], 21, 21, 1))\n",
    "    Xblue = Xblue + [lr_blue[j,:,:,:] for j in range(np.shape(lr_blue)[0])]\n",
    "    yblue = yblue + [hr_blue[j,:,:,:] for j in range(np.shape(hr_blue)[0])]"
   ]
  },
  {
   "cell_type": "code",
   "execution_count": 11,
   "metadata": {
    "collapsed": true
   },
   "outputs": [],
   "source": [
    "Xred = np.reshape(Xred, (len(Xred), 33, 33, 1))\n",
    "Xgreen = np.reshape(Xgreen, (len(Xgreen), 33, 33, 1))\n",
    "Xblue = np.reshape(Xblue, (len(Xblue), 33, 33, 1))\n",
    "yred = np.reshape(yred, (len(yred), 21, 21, 1))\n",
    "ygreen = np.reshape(ygreen, (len(ygreen), 21, 21, 1))\n",
    "yblue = np.reshape(yblue, (len(yblue), 21, 21, 1))"
   ]
  },
  {
   "cell_type": "code",
   "execution_count": 12,
   "metadata": {
    "collapsed": true
   },
   "outputs": [],
   "source": [
    "model_trained = load_model('../output/bestmodel.h5')"
   ]
  },
  {
   "cell_type": "code",
   "execution_count": 13,
   "metadata": {},
   "outputs": [
    {
     "name": "stdout",
     "output_type": "stream",
     "text": [
      "_________________________________________________________________\n",
      "Layer (type)                 Output Shape              Param #   \n",
      "=================================================================\n",
      "conv2d_7_input (InputLayer)  (None, 33, 33, 1)         0         \n",
      "_________________________________________________________________\n",
      "conv2d_7 (Conv2D)            (None, 25, 25, 64)        5248      \n",
      "_________________________________________________________________\n",
      "conv2d_8 (Conv2D)            (None, 25, 25, 32)        2080      \n",
      "_________________________________________________________________\n",
      "conv2d_9 (Conv2D)            (None, 21, 21, 1)         801       \n",
      "=================================================================\n",
      "Total params: 8,129\n",
      "Trainable params: 8,129\n",
      "Non-trainable params: 0\n",
      "_________________________________________________________________\n"
     ]
    }
   ],
   "source": [
    "model_trained.summary()"
   ]
  },
  {
   "cell_type": "code",
   "execution_count": 14,
   "metadata": {
    "collapsed": true
   },
   "outputs": [],
   "source": [
    "pre_r = model_trained.predict(Xred)\n",
    "pre_g = model_trained.predict(Xgreen)\n",
    "pre_b = model_trained.predict(Xblue)"
   ]
  },
  {
   "cell_type": "code",
   "execution_count": 15,
   "metadata": {
    "collapsed": true
   },
   "outputs": [],
   "source": [
    "mse_r = np.mean(pow((pre_r - yred), 2))\n",
    "mse_g = np.mean(pow((pre_g - ygreen), 2))\n",
    "mse_b = np.mean(pow((pre_b - yblue), 2))"
   ]
  },
  {
   "cell_type": "code",
   "execution_count": 16,
   "metadata": {},
   "outputs": [
    {
     "data": {
      "text/plain": [
       "0.0023964724193016687"
      ]
     },
     "execution_count": 16,
     "metadata": {},
     "output_type": "execute_result"
    }
   ],
   "source": [
    "mse = (mse_r + mse_g + mse_b) / 3\n",
    "mse"
   ]
  },
  {
   "cell_type": "code",
   "execution_count": 17,
   "metadata": {},
   "outputs": [
    {
     "data": {
      "text/plain": [
       "26.2042756488376"
      ]
     },
     "execution_count": 17,
     "metadata": {},
     "output_type": "execute_result"
    }
   ],
   "source": [
    "psnr = 20 * math.log10(1) - 10 * math.log10(mse)\n",
    "psnr"
   ]
  }
 ],
 "metadata": {
  "kernelspec": {
   "display_name": "Python 3",
   "language": "python",
   "name": "python3"
  },
  "language_info": {
   "codemirror_mode": {
    "name": "ipython",
    "version": 3
   },
   "file_extension": ".py",
   "mimetype": "text/x-python",
   "name": "python",
   "nbconvert_exporter": "python",
   "pygments_lexer": "ipython3",
   "version": "3.5.2"
  }
 },
 "nbformat": 4,
 "nbformat_minor": 2
}

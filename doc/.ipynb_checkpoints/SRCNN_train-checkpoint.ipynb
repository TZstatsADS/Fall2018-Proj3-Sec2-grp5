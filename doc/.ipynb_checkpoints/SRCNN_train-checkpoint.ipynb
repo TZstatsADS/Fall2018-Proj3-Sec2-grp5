{
 "cells": [
  {
   "cell_type": "markdown",
   "metadata": {},
   "source": [
    "# Super Resolution SRCNN"
   ]
  },
  {
   "cell_type": "code",
   "execution_count": 1,
   "metadata": {},
   "outputs": [
    {
     "name": "stderr",
     "output_type": "stream",
     "text": [
      "/Library/Frameworks/Python.framework/Versions/3.5/lib/python3.5/importlib/_bootstrap.py:222: RuntimeWarning: compiletime version 3.6 of module 'tensorflow.python.framework.fast_tensor_util' does not match runtime version 3.5\n",
      "  return f(*args, **kwds)\n",
      "/Library/Frameworks/Python.framework/Versions/3.5/lib/python3.5/site-packages/h5py/__init__.py:36: FutureWarning: Conversion of the second argument of issubdtype from `float` to `np.floating` is deprecated. In future, it will be treated as `np.float64 == np.dtype(float).type`.\n",
      "  from ._conv import register_converters as _register_converters\n",
      "Using TensorFlow backend.\n"
     ]
    }
   ],
   "source": [
    "# pip3 install opencv-python\n",
    "# pip3 install pillow\n",
    "import matplotlib.image as mpimg \n",
    "import matplotlib.pyplot as plt \n",
    "import os\n",
    "import cv2\n",
    "from scipy import misc\n",
    "from scipy import ndimage\n",
    "import numpy as np\n",
    "import tensorflow as tf\n",
    "from keras.utils.np_utils import to_categorical\n",
    "from keras.models import Sequential\n",
    "from keras.layers import Dense, Dropout, Flatten, Conv2D, MaxPool2D\n",
    "from keras.optimizers import RMSprop\n",
    "from keras.preprocessing.image import ImageDataGenerator\n",
    "from keras.callbacks import ReduceLROnPlateau\n",
    "from keras.optimizers import Adam\n",
    "from sklearn.model_selection import ShuffleSplit\n",
    "from keras.models import load_model\n",
    "from sklearn.metrics import accuracy_score\n",
    "from keras.models import load_model\n",
    "import math\n",
    "%matplotlib inline"
   ]
  },
  {
   "cell_type": "code",
   "execution_count": 1,
   "metadata": {},
   "outputs": [
    {
     "name": "stderr",
     "output_type": "stream",
     "text": [
      "/Library/Frameworks/Python.framework/Versions/3.5/lib/python3.5/site-packages/h5py/__init__.py:36: FutureWarning: Conversion of the second argument of issubdtype from `float` to `np.floating` is deprecated. In future, it will be treated as `np.float64 == np.dtype(float).type`.\n",
      "  from ._conv import register_converters as _register_converters\n",
      "Using TensorFlow backend.\n",
      "/Library/Frameworks/Python.framework/Versions/3.5/lib/python3.5/importlib/_bootstrap.py:222: RuntimeWarning: compiletime version 3.6 of module 'tensorflow.python.framework.fast_tensor_util' does not match runtime version 3.5\n",
      "  return f(*args, **kwds)\n"
     ]
    }
   ],
   "source": [
    "# import self defined functions\n",
    "import sys \n",
    "sys.path.append('../lib/SRCNN/') \n",
    "from files import files\n",
    "from rgb2ycbcr import rgb2ycbcr\n",
    "from resize import resize\n",
    "# from rgb2gray import rgb2gray\n",
    "from normalize import normalize\n",
    "from accuracy import accuracy\n",
    "from srcnn import srcnn\n",
    "from segment import segment"
   ]
  },
  {
   "cell_type": "code",
   "execution_count": 3,
   "metadata": {
    "collapsed": true
   },
   "outputs": [],
   "source": [
    "train_dir = \"../data/train_set/\"\n",
    "train_LR_dir = train_dir + 'LR/'\n",
    "train_HR_dir = train_dir + 'HR/'\n",
    "train_label_path = train_dir + 'label.csv'"
   ]
  },
  {
   "cell_type": "code",
   "execution_count": 4,
   "metadata": {},
   "outputs": [
    {
     "data": {
      "text/plain": [
       "'../data/train_set/HR/.DS_Store'"
      ]
     },
     "execution_count": 4,
     "metadata": {},
     "output_type": "execute_result"
    }
   ],
   "source": [
    "train_LR = []\n",
    "train_HR = []\n",
    "for file in files(train_LR_dir):  \n",
    "    train_LR.append(train_LR_dir + file)\n",
    "train_LR.pop(0)\n",
    "for file in files(train_HR_dir):  \n",
    "    train_HR.append(train_HR_dir + file)\n",
    "train_HR.pop(0)"
   ]
  },
  {
   "cell_type": "code",
   "execution_count": 5,
   "metadata": {
    "collapsed": true
   },
   "outputs": [],
   "source": [
    "img_LR, img_HR = [], []\n",
    "for i in  range(100):\n",
    "    lr, hr = resize(train_LR[i], train_HR[i])\n",
    "    img_LR.append(lr), img_HR.append(hr)"
   ]
  },
  {
   "cell_type": "code",
   "execution_count": 6,
   "metadata": {
    "collapsed": true
   },
   "outputs": [],
   "source": [
    "m = np.array([[ 65.481, 128.553, 24.966],\n",
    "              [-37.797, -74.203, 112],\n",
    "              [ 112, -93.786, -18.214]])\n",
    "mat = m.transpose() / 255."
   ]
  },
  {
   "cell_type": "code",
   "execution_count": 7,
   "metadata": {
    "collapsed": true
   },
   "outputs": [],
   "source": [
    "for i in range(len(img_LR)):\n",
    "    lr = rgb2ycbcr(img_LR[i], mat)\n",
    "    hr = rgb2ycbcr(img_HR[i], mat)\n",
    "    img_LR[i] = lr\n",
    "    img_HR[i] = hr"
   ]
  },
  {
   "cell_type": "code",
   "execution_count": 8,
   "metadata": {
    "collapsed": true
   },
   "outputs": [],
   "source": [
    "img_LR = [normalize(e[:,:,0]) for e in img_LR]\n",
    "img_HR = [normalize(e[:,:,0]) for e in img_HR]"
   ]
  },
  {
   "cell_type": "code",
   "execution_count": 9,
   "metadata": {
    "collapsed": true
   },
   "outputs": [],
   "source": [
    "X_LR = [segment(e)[0] for e in img_LR]\n",
    "y_HR = [segment(e)[1] for e in img_HR]"
   ]
  },
  {
   "cell_type": "code",
   "execution_count": 10,
   "metadata": {
    "collapsed": true
   },
   "outputs": [],
   "source": [
    "X = []\n",
    "y = []\n",
    "for i in range(len(X_LR)):\n",
    "    lr = np.reshape(X_LR[i], (np.shape(X_LR[i])[0], 33, 33, 1))\n",
    "    hr = np.reshape(y_HR[i], (np.shape(y_HR[i])[0], 21, 21, 1))\n",
    "    X = X + [lr[j,:,:,:] for j in range(np.shape(lr)[0])]\n",
    "    y = y + [hr[j,:,:,:] for j in range(np.shape(hr)[0])]"
   ]
  },
  {
   "cell_type": "code",
   "execution_count": 11,
   "metadata": {
    "collapsed": true
   },
   "outputs": [],
   "source": [
    "X = np.reshape(X, (len(X), 33, 33, 1))\n",
    "y = np.reshape(y, (len(y), 21, 21, 1))"
   ]
  },
  {
   "cell_type": "code",
   "execution_count": 12,
   "metadata": {},
   "outputs": [
    {
     "name": "stderr",
     "output_type": "stream",
     "text": [
      "../lib/srcnn.py:9: UserWarning: Update your `Conv2D` call to the Keras 2 API: `Conv2D(64, (9, 9), padding=\"valid\", activation=\"relu\", input_shape=(33, 33, 1...)`\n",
      "  model.add(Convolution2D(64, 9, 9, border_mode='valid', input_shape=input_shape, activation='relu'))\n",
      "../lib/srcnn.py:10: UserWarning: Update your `Conv2D` call to the Keras 2 API: `Conv2D(32, (1, 1), activation=\"relu\")`\n",
      "  model.add(Convolution2D(32, 1, 1, activation='relu'))\n",
      "../lib/srcnn.py:11: UserWarning: Update your `Conv2D` call to the Keras 2 API: `Conv2D(1, (5, 5))`\n",
      "  model.add(Convolution2D(1, 5, 5, ))\n",
      "/Library/Frameworks/Python.framework/Versions/3.5/lib/python3.5/site-packages/keras/models.py:981: UserWarning: The `nb_epoch` argument in `fit` has been renamed `epochs`.\n",
      "  warnings.warn('The `nb_epoch` argument in `fit` '\n"
     ]
    },
    {
     "name": "stdout",
     "output_type": "stream",
     "text": [
      "Epoch 1/5\n",
      "108375/108375 [==============================] - 308s 3ms/step - loss: 0.0036\n",
      "Epoch 2/5\n",
      "108375/108375 [==============================] - 508s 5ms/step - loss: 0.0021\n",
      "Epoch 3/5\n",
      "108375/108375 [==============================] - 301s 3ms/step - loss: 0.0021\n",
      "Epoch 4/5\n",
      "108375/108375 [==============================] - 300s 3ms/step - loss: 0.0022\n",
      "Epoch 5/5\n",
      "108375/108375 [==============================] - 306s 3ms/step - loss: 0.0020\n"
     ]
    }
   ],
   "source": [
    "model = srcnn()\n",
    "history = model.fit(X, y, batch_size=128, nb_epoch=5, shuffle='batch')"
   ]
  },
  {
   "cell_type": "code",
   "execution_count": 18,
   "metadata": {},
   "outputs": [
    {
     "data": {
      "image/png": "[encoded data removed]",
      "text/plain": [
       "<Figure size 432x288 with 1 Axes>"
      ]
     },
     "metadata": {},
     "output_type": "display_data"
    }
   ],
   "source": [
    "plt.title('Loss')\n",
    "plt.plot(history.history['loss'], color='#3784E8',label=\"Train Loss\")\n",
    "plt.legend()\n",
    "plt.show()"
   ]
  },
  {
   "cell_type": "code",
   "execution_count": 94,
   "metadata": {
    "collapsed": true
   },
   "outputs": [],
   "source": [
    "best_model = model.model.save('..\\output\\bestmodel.h5') "
   ]
  }
 ],
 "metadata": {
  "kernelspec": {
   "display_name": "Python 3",
   "language": "python",
   "name": "python3"
  },
  "language_info": {
   "codemirror_mode": {
    "name": "ipython",
    "version": 3
   },
   "file_extension": ".py",
   "mimetype": "text/x-python",
   "name": "python",
   "nbconvert_exporter": "python",
   "pygments_lexer": "ipython3",
   "version": "3.5.2"
  }
 },
 "nbformat": 4,
 "nbformat_minor": 2
}
